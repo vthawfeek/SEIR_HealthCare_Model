{
 "cells": [
  {
   "cell_type": "markdown",
   "metadata": {},
   "source": [
    "### SIRDH model"
   ]
  },
  {
   "cell_type": "markdown",
   "metadata": {},
   "source": [
    "#### Parameters"
   ]
  },
  {
   "cell_type": "code",
   "execution_count": 180,
   "metadata": {},
   "outputs": [
    {
     "name": "stdout",
     "output_type": "stream",
     "text": [
      "Parameters:  [0.275      0.07142857 0.03333333 0.04761905 1.         0.1\n",
      " 0.7       ]\n"
     ]
    }
   ],
   "source": [
    "#parameter definitions\n",
    "\n",
    "##k[0]->mixing rate of population\n",
    "##k[1]->infectious period\n",
    "##k[2]->re-infection period\n",
    "##k[3]->death period\n",
    "##k[4]->mixing rate of H\n",
    "##k[5]->infectious period with treatment\n",
    "##k[6]->PPE treatment\n",
    "\n",
    "###Case1: Italy (www.worldometers.info, international.commonwealthfund.org, www.icn.ch, www.ecdc.europa.eu, https://patient.info/news-and-features/coronavirus-how-quickly-do-covid-19-symptoms-develop-and-how-long-do-they-last)\n",
    "#data from February 20th till April 25th\n",
    "numDays=65\n",
    "Popul=60477673\n",
    "numInf=192990\n",
    "numDead=25969\n",
    "numRec=60498\n",
    "numSus=Popul-numInf\n",
    "HCfract=0.01 #10 healthcare workers per 1000 population \n",
    "numHC=HCfract*Popul\n",
    "HinfRate=0.09 #9% of infected cases are healthcare workers\n",
    "numHinf=HinfRate*numInf\n",
    "ReqPPE=45/10 #number of PPE required per H per I per day\n",
    "\n",
    "#parameters\n",
    "k=np.zeros(7)\n",
    "k[0]=0.275 #27.5% of population are mixing\n",
    "k[1]=1/14 #time from infection to natural recovery\n",
    "k[2]=1/30 #re-infection rate is very rare\n",
    "k[3]=1/21\n",
    "k[4]=1 #healthcare workers are in contact with patients 100%\n",
    "k[5]=1/10\n",
    "k[6]= 0.7 #assume 70% of required PPE is available \n",
    "N=Popul*0.20 #assuming 20% of population are vulnerable\n",
    "\n",
    "#Initial conditions\n",
    "ic=np.zeros(4)\n",
    "ic[0]= 1 #infected\n",
    "ic[1]= 0 #recovered\n",
    "ic[2]= 0 #dead\n",
    "ic[3]= numHC*0.70 #assuming 70% of healthcare workers are available for SARS-CoV2\n",
    "\n",
    "print('Parameters: ',k)"
   ]
  },
  {
   "cell_type": "markdown",
   "metadata": {},
   "source": [
    "#### Model definition"
   ]
  },
  {
   "cell_type": "code",
   "execution_count": 181,
   "metadata": {},
   "outputs": [
    {
     "name": "stdout",
     "output_type": "stream",
     "text": [
      "# of infected difference (actual-model): 133743\n",
      "# of recovered difference (actual-model): -120622\n",
      "# of dead difference (actual-model): -7069651\n"
     ]
    },
    {
     "data": {
      "image/png": "[encoded data removed]",
      "text/plain": [
       "<Figure size 936x360 with 1 Axes>"
      ]
     },
     "metadata": {
      "needs_background": "light"
     },
     "output_type": "display_data"
    }
   ],
   "source": [
    "#model definition\n",
    "def modSEIR(y,t,N,k):\n",
    "    #assignments\n",
    "    S=N-sum(y[0:3])\n",
    "    dy=[0]*4\n",
    "\n",
    "    #reaction rates\n",
    "    v0=k[0]*(S/N)*(y[0]/N)\n",
    "    v1=k[1]*(y[0]/N)\n",
    "    v2=k[2]*(y[1]/N)\n",
    "    v3=k[3]*(y[0]/N)\n",
    "    v4=(k[4]-k[6])*(y[3]/N)*(y[0]/N)\n",
    "#    v4=(k[4]/k[6])*(y[3]/N)*(y[0]/N)\n",
    "#    v5=(k[5]*k[6])*(y[3]/N)\n",
    "    v5=(k[5])*(y[3]/N)*(y[0]/N)\n",
    "\n",
    "    #ODEs\n",
    "    dy[0]=N*(v0+v4-v1-v3) #I\n",
    "    dy[1]=N*(v1+v5-v2) #R\n",
    "    dy[2]=N*(v3) #D\n",
    "    dy[3]=N*(-v4) #H\n",
    "\n",
    "    return dy\n",
    "\n",
    "##timeline\n",
    "tmax=1*365 #days\n",
    "tvec=np.arange(0,tmax,0.1)\n",
    "\n",
    "##test\n",
    "#k[0]=k[0]*10\n",
    "\n",
    "##solving equations\n",
    "soln=odeint(modSEIR,ic,tvec,args=(N,k))\n",
    "##plotting solution\n",
    "plt.figure(figsize=(13,5))\n",
    "plt.subplot(1,3,1)\n",
    "plt.plot(tvec,soln)\n",
    "varTC=[i[0] for i in soln]\n",
    "#plt.plot(tvec,varTC)\n",
    "legend_labels = (\"Infected\",\"Recovered\",\"Dead\",\"Healthcare\")\n",
    "plt.xlabel(\"Time (days)\")\n",
    "plt.title(\"Italy COVID19 Profile\")\n",
    "plt.ylabel(\"Number of Cases\")\n",
    "plt.legend(legend_labels)\n",
    "#plt.ylim([0,1000000])\n",
    "print(\"# of infected difference (actual-model): \"+str(int(numInf-[i[0] for i in soln][-1])))\n",
    "print(\"# of recovered difference (actual-model): \"+str(int(numRec-[i[1] for i in soln][-1])))\n",
    "print(\"# of dead difference (actual-model): \"+str(int(numDead-[i[2] for i in soln][-1])))"
   ]
  },
  {
   "cell_type": "markdown",
   "metadata": {},
   "source": [
    "#### Parameter estimation"
   ]
  },
  {
   "cell_type": "code",
   "execution_count": 182,
   "metadata": {},
   "outputs": [],
   "source": [
    "#parameters\n",
    "Popul=60477673\n",
    "numHC=HCfract*Popul\n",
    "\n",
    "k=np.zeros(7)\n",
    "k[0]=0.257 #30% of population are mixing\n",
    "k[1]=1/14 #time from infection to natural recovery\n",
    "k[2]=1/30 #re-infection rate is very rare\n",
    "k[3]=1/21\n",
    "k[4]=1 #healthcare workers are in contact with patients 100%\n",
    "k[5]=1/10\n",
    "k[6]= 0.7 #assume 70% of required PPE is available \n",
    "N=Popul*0.20 #assuming 20% of population are vulnerable\n",
    "\n",
    "#Initial conditions\n",
    "ic=np.zeros(4)\n",
    "ic[0]= 1 #infected\n",
    "ic[1]= 0 #recovered\n",
    "ic[2]= 0 #dead\n",
    "ic[3]= numHC*0.70 #assuming 70% of healthcare workers are available for SARS-CoV2\n"
   ]
  },
  {
   "cell_type": "code",
   "execution_count": 184,
   "metadata": {},
   "outputs": [
    {
     "name": "stderr",
     "output_type": "stream",
     "text": [
      "C:\\Users\\tvarusai\\AppData\\Local\\Continuum\\Anaconda3\\lib\\site-packages\\scipy\\integrate\\odepack.py:248: ODEintWarning: Excess work done on this call (perhaps wrong Dfun type). Run with full_output = 1 to get quantitative information.\n",
      "  warnings.warn(warning_msg, ODEintWarning)\n",
      "C:\\Users\\tvarusai\\AppData\\Local\\Continuum\\Anaconda3\\lib\\site-packages\\scipy\\integrate\\odepack.py:248: ODEintWarning: Excess work done on this call (perhaps wrong Dfun type). Run with full_output = 1 to get quantitative information.\n",
      "  warnings.warn(warning_msg, ODEintWarning)\n",
      "C:\\Users\\tvarusai\\AppData\\Local\\Continuum\\Anaconda3\\lib\\site-packages\\ipykernel_launcher.py:21: RuntimeWarning: overflow encountered in double_scalars\n",
      "C:\\Users\\tvarusai\\AppData\\Local\\Continuum\\Anaconda3\\lib\\site-packages\\scipy\\integrate\\odepack.py:248: ODEintWarning: Illegal input detected (internal error). Run with full_output = 1 to get quantitative information.\n",
      "  warnings.warn(warning_msg, ODEintWarning)\n",
      "C:\\Users\\tvarusai\\AppData\\Local\\Continuum\\Anaconda3\\lib\\site-packages\\scipy\\integrate\\odepack.py:248: ODEintWarning: Excess work done on this call (perhaps wrong Dfun type). Run with full_output = 1 to get quantitative information.\n",
      "  warnings.warn(warning_msg, ODEintWarning)\n",
      "C:\\Users\\tvarusai\\AppData\\Local\\Continuum\\Anaconda3\\lib\\site-packages\\ipykernel_launcher.py:21: RuntimeWarning: overflow encountered in double_scalars\n",
      "C:\\Users\\tvarusai\\AppData\\Local\\Continuum\\Anaconda3\\lib\\site-packages\\scipy\\integrate\\odepack.py:248: ODEintWarning: Illegal input detected (internal error). Run with full_output = 1 to get quantitative information.\n",
      "  warnings.warn(warning_msg, ODEintWarning)\n",
      "C:\\Users\\tvarusai\\AppData\\Local\\Continuum\\Anaconda3\\lib\\site-packages\\scipy\\integrate\\odepack.py:248: ODEintWarning: Excess work done on this call (perhaps wrong Dfun type). Run with full_output = 1 to get quantitative information.\n",
      "  warnings.warn(warning_msg, ODEintWarning)\n",
      "C:\\Users\\tvarusai\\AppData\\Local\\Continuum\\Anaconda3\\lib\\site-packages\\scipy\\optimize\\minpack.py:454: RuntimeWarning: Number of calls to function has reached maxfev = 1600.\n",
      "  warnings.warn(errors[info][0], RuntimeWarning)\n",
      "C:\\Users\\tvarusai\\AppData\\Local\\Continuum\\Anaconda3\\lib\\site-packages\\scipy\\integrate\\odepack.py:248: ODEintWarning: Excess work done on this call (perhaps wrong Dfun type). Run with full_output = 1 to get quantitative information.\n",
      "  warnings.warn(warning_msg, ODEintWarning)\n",
      "C:\\Users\\tvarusai\\AppData\\Local\\Continuum\\Anaconda3\\lib\\site-packages\\ipykernel_launcher.py:21: RuntimeWarning: overflow encountered in double_scalars\n",
      "C:\\Users\\tvarusai\\AppData\\Local\\Continuum\\Anaconda3\\lib\\site-packages\\scipy\\integrate\\odepack.py:248: ODEintWarning: Illegal input detected (internal error). Run with full_output = 1 to get quantitative information.\n",
      "  warnings.warn(warning_msg, ODEintWarning)\n",
      "C:\\Users\\tvarusai\\AppData\\Local\\Continuum\\Anaconda3\\lib\\site-packages\\scipy\\integrate\\odepack.py:248: ODEintWarning: Excess work done on this call (perhaps wrong Dfun type). Run with full_output = 1 to get quantitative information.\n",
      "  warnings.warn(warning_msg, ODEintWarning)\n",
      "C:\\Users\\tvarusai\\AppData\\Local\\Continuum\\Anaconda3\\lib\\site-packages\\matplotlib\\ticker.py:2039: RuntimeWarning: overflow encountered in multiply\n",
      "  steps = self._extended_steps * scale\n"
     ]
    },
    {
     "data": {
      "image/png": "[encoded data removed]",
      "text/plain": [
       "<Figure size 432x288 with 6 Axes>"
      ]
     },
     "metadata": {
      "needs_background": "light"
     },
     "output_type": "display_data"
    }
   ],
   "source": [
    "import pylab as pp\n",
    "import numpy as np\n",
    "import random\n",
    "from scipy import integrate, optimize\n",
    "\n",
    "class Fit_Parameters():\n",
    "    def __init__(self):\n",
    "        self.X = np.array(x_Data) #measured time points\n",
    "        self.y = np.array(y_Data) #measured infected cases\n",
    "        self.y0 = ic # inital conditions ODEs\n",
    "    def ode(self, y, X, k):\n",
    "        S=N-sum(y[0:3])\n",
    "        dy=[0]*4\n",
    "        v0=k[0]*(S/N)*(y[0]/N)\n",
    "        v1=k[1]*(y[0]/N)\n",
    "        v2=k[2]*(y[1]/N)\n",
    "        v3=k[3]*(y[0]/N)\n",
    "        v4=(k[4]-k[6])*(y[3]/N)*(y[0]/N)\n",
    "        v5=(k[5])*(y[3]/N)*(y[0]/N)\n",
    "        dy[0]=N*(v0+v4-v1-v3) #I\n",
    "        dy[1]=N*(v1+v5-v2) #R\n",
    "        dy[2]=N*(v3) #D\n",
    "        dy[3]=N*(-v4) #H\n",
    "        return dy\n",
    "    def model(self, X, k):\n",
    "        return integrate.odeint(self.ode, self.y0, X, args=(k,))\n",
    "    def f_resid(self, k):\n",
    "        #print(len(self.y),self.model(self.X, k)[:,0][0])\n",
    "        return self.y - self.model(self.X, k)[:,0]\n",
    "    def optim(self, k_quess):\n",
    "        return optimize.leastsq(self.f_resid, k_guess) # fit params\n",
    "\n",
    "k_Set=[]    \n",
    "fig=plt.figure()\n",
    "fig.subplots_adjust(hspace=0.7, wspace=0.7)\n",
    "for i in range(0,6):\n",
    "    #random k\n",
    "    k=[random.uniform(0.0,1.0) for j in k]\n",
    "    po=Fit_Parameters(); k_guess=k\n",
    "    Est_k=po.optim(k_guess)\n",
    "    k_Set.append(Est_k)\n",
    "    #show\n",
    "    #print(\"parameter values are \", Est_k)\n",
    "    ax=fig.add_subplot(2,3,i+1)\n",
    "    x = np.linspace(min(po.X), max(po.X)+10, 2000)\n",
    "    ax.plot(po.X, po.y,'.r',x, po.model(x, Est_k[0])[:,0],'-b')\n",
    "    ax.set_xlabel('X',{\"fontsize\":10}); ax.set_ylabel(\"Y\",{\"fontsize\":10}); pp.legend(('data','fit'),loc=0);ax.set_title(i)\n"
   ]
  },
  {
   "cell_type": "code",
   "execution_count": null,
   "metadata": {},
   "outputs": [],
   "source": [
    "k=k_Set[1][0]\n",
    "k"
   ]
  },
  {
   "cell_type": "code",
   "execution_count": null,
   "metadata": {},
   "outputs": [],
   "source": [
    "# cleaned up a bit to get my head around it - thanks for sharing \n",
    "import pylab as pp\n",
    "import numpy as np\n",
    "from scipy import integrate, optimize\n",
    "\n",
    "class Parameterize_ODE():\n",
    "    def __init__(self):\n",
    "        self.X = np.linspace(0,9,10)\n",
    "        self.y = np.array([0.000,0.416,0.489,0.595,0.506,0.493,0.458,0.394,0.335,0.309])\n",
    "        self.y0 = [1,0,0] # inital conditions ODEs\n",
    "    def ode(self, y, X, p):\n",
    "        return (-p[0]*y[0],\n",
    "                 p[0]*y[0]-p[1]*y[1],\n",
    "                           p[1]*y[1])\n",
    "    def model(self, X, p):\n",
    "        return integrate.odeint(self.ode, self.y0, X, args=(p,))\n",
    "    def f_resid(self, p):\n",
    "        return self.y - self.model(self.X, p)[:,1]\n",
    "    def optim(self, p_quess):\n",
    "        return optimize.leastsq(self.f_resid, p_guess) # fit params\n",
    "\n",
    "po = Parameterize_ODE(); p_guess = [0.2, 0.3] \n",
    "c, kvg = po.optim(p_guess)\n",
    "\n",
    "# --- show ---\n",
    "print(\"parameter values are \", c, kvg)\n",
    "x = np.linspace(min(po.X), max(po.X), 2000)\n",
    "pp.plot(po.X, po.y,'.r',x, po.model(x, c)[:,1],'-b')\n",
    "pp.xlabel('X',{\"fontsize\":16}); pp.ylabel(\"y\",{\"fontsize\":16}); pp.legend(('data','fit'),loc=0); pp.show()"
   ]
  }
 ],
 "metadata": {
  "kernelspec": {
   "display_name": "Python 3",
   "language": "python",
   "name": "python3"
  },
  "language_info": {
   "codemirror_mode": {
    "name": "ipython",
    "version": 3
   },
   "file_extension": ".py",
   "mimetype": "text/x-python",
   "name": "python",
   "nbconvert_exporter": "python",
   "pygments_lexer": "ipython3",
   "version": "3.6.10"
  }
 },
 "nbformat": 4,
 "nbformat_minor": 4
}
